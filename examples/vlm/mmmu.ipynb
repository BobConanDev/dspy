{
 "cells": [
  {
   "cell_type": "code",
   "execution_count": null,
   "metadata": {},
   "outputs": [],
   "source": [
    "%load_ext autoreload\n",
    "%autoreload 2"
   ]
  },
  {
   "cell_type": "code",
   "execution_count": null,
   "metadata": {},
   "outputs": [],
   "source": [
    "import dspy\n",
    "from dspy.datasets import DataLoader\n",
    "from dspy.teleprompt import LabeledFewShot\n",
    "from dspy.evaluate import Evaluate\n",
    "from dspy.evaluate.metrics import answer_exact_match\n",
    "from typing import List, Any\n"
   ]
  },
  {
   "cell_type": "code",
   "execution_count": null,
   "metadata": {},
   "outputs": [],
   "source": [
    "lm = dspy.LM(model=\"openai/Qwen/Qwen2-VL-72B-Instruct\", api_base=\"http://localhost:8000/v1\", api_key=\"sk-proj-1234567890\")\n",
    "\n",
    "# adapter = dspy.ChatAdapter()\n",
    "dspy.settings.configure(lm=lm)"
   ]
  },
  {
   "cell_type": "code",
   "execution_count": null,
   "metadata": {},
   "outputs": [],
   "source": [
    "input_keys = tuple([f\"image_{i}\" for i in range(1, 3)] + [\"question\", \"options\"])\n",
    "subsets = ['Accounting', 'Agriculture', 'Architecture_and_Engineering', 'Art', 'Art_Theory', 'Basic_Medical_Science', 'Biology', 'Chemistry', 'Clinical_Medicine', 'Computer_Science', 'Design', 'Diagnostics_and_Laboratory_Medicine', 'Economics', 'Electronics', 'Energy_and_Power', 'Finance', 'Geography', 'History', 'Literature', 'Manage', 'Marketing', 'Materials', 'Math', 'Mechanical_Engineering', 'Music', 'Pharmacy', 'Physics', 'Psychology', 'Public_Health', 'Sociology']\n",
    "\n",
    "devset = []\n",
    "valset = []\n",
    "for subset in subsets:\n",
    "    dataset = DataLoader().from_huggingface(\"MMMU/MMMU\", subset, split=[\"dev\", \"validation\"], input_keys=input_keys)\n",
    "    devset.extend(dataset[\"dev\"])\n",
    "    valset.extend(dataset[\"validation\"])\n",
    "    "
   ]
  },
  {
   "cell_type": "code",
   "execution_count": null,
   "metadata": {},
   "outputs": [],
   "source": [
    "def count_images(dataset):\n",
    "    image_counts = {i: 0 for i in range(3)}  # Initialize counts for 0 to 2 images\n",
    "    for example in dataset:\n",
    "        count = sum(1 for key in example.inputs().keys() if key.startswith('image_') and example.inputs()[key] is not None)\n",
    "        if count <= 2:\n",
    "            image_counts[count] += 1\n",
    "    return image_counts\n",
    "\n",
    "max_images = 1\n",
    "devset = [example for example in devset if sum(1 for key in example.inputs().keys() if key.startswith('image_') and example.inputs()[key] is not None) <= max_images]\n",
    "valset = [example for example in valset if sum(1 for key in example.inputs().keys() if key.startswith('image_') and example.inputs()[key] is not None) <= max_images]\n",
    "\n",
    "devset_image_counts = count_images(devset)\n",
    "valset_image_counts = count_images(valset)\n",
    "\n",
    "print(\"Image counts in devset:\")\n",
    "for count, num_examples in devset_image_counts.items():\n",
    "    print(f\"{count} image(s): {num_examples} examples\")\n",
    "\n",
    "print(\"\\nImage counts in valset:\")\n",
    "for count, num_examples in valset_image_counts.items():\n",
    "    print(f\"{count} image(s): {num_examples} examples\")\n"
   ]
  },
  {
   "cell_type": "code",
   "execution_count": null,
   "metadata": {},
   "outputs": [],
   "source": [
    "Image = Any\n",
    "class MMMUSignature(dspy.Signature):\n",
    "    \"\"\"Output a rationale and the answer to a multiple choice question about an image.\"\"\"\n",
    "\n",
    "    question: str = dspy.InputField(desc=\"A question about the image(s)\")\n",
    "    image_1: Image = dspy.InputField(desc=\"An image of a math problem\")\n",
    "    # image_2: Image = dspy.InputField(desc=\"An image of a math problem\")\n",
    "    options: List[str] = dspy.InputField(desc=\"The options to the question\")\n",
    "    answer: str = dspy.OutputField(desc=\"The answer to the question\")\n",
    "\n",
    "predictor = dspy.ChainOfThought(MMMUSignature, temperature=0.0)\n",
    "# print(predictor(question=\"What is the capital of france?\"))"
   ]
  },
  {
   "cell_type": "code",
   "execution_count": null,
   "metadata": {},
   "outputs": [],
   "source": [
    "# sample_input=devset[0]\n",
    "results = []\n",
    "for sample_input in devset[10:20]:\n",
    "    x = predictor(**sample_input.inputs())\n",
    "    results.append(x)\n",
    "    print(x)\n",
    "\n",
    "# predictor(**devset[0].inputs())"
   ]
  },
  {
   "cell_type": "code",
   "execution_count": null,
   "metadata": {},
   "outputs": [],
   "source": [
    "lm.inspect_history()"
   ]
  },
  {
   "cell_type": "code",
   "execution_count": null,
   "metadata": {},
   "outputs": [],
   "source": [
    "# raise ValueError(\"stop here\")"
   ]
  },
  {
   "cell_type": "code",
   "execution_count": 11,
   "metadata": {},
   "outputs": [],
   "source": [
    "evaluate = Evaluate(metric=answer_exact_match, num_threads=300, devset= valset, display_progress=True)\n",
    "print(evaluate(predictor))"
   ]
  },
  {
   "cell_type": "code",
   "execution_count": null,
   "metadata": {},
   "outputs": [],
   "source": [
    "# print(len(devset))\n",
    "# print(devset)\n",
    "\n",
    "optimizer = LabeledFewShot(k=3)\n",
    "bootstrapped_predictor = optimizer.compile(predictor, trainset=devset, sample=False)\n",
    "# print(sample_input.inputs())\n",
    "# print(encode_image(sample_input.inputs()[\"image_1\"]))\n",
    "# print(sample_input.inpi)\n",
    "# print(bootstrapped_predictor(**sample_input.inputs()))\n",
    "\n",
    "# evaluate = Evaluate(metric=answer_exact_match, num_threads=300, devset= valset, display_progress=True)\n",
    "# print(evaluate(bootstrapped_predictor))"
   ]
  },
  {
   "cell_type": "code",
   "execution_count": null,
   "metadata": {},
   "outputs": [],
   "source": [
    "test_input = dataset[\"dev\"][0]\n",
    "test_input"
   ]
  }
 ],
 "metadata": {
  "kernelspec": {
   "display_name": ".venv",
   "language": "python",
   "name": "python3"
  },
  "language_info": {
   "codemirror_mode": {
    "name": "ipython",
    "version": 3
   },
   "file_extension": ".py",
   "mimetype": "text/x-python",
   "name": "python",
   "nbconvert_exporter": "python",
   "pygments_lexer": "ipython3",
   "version": "3.11.9"
  }
 },
 "nbformat": 4,
 "nbformat_minor": 2
}
